{
 "cells": [
  {
   "cell_type": "code",
   "execution_count": 1,
   "metadata": {},
   "outputs": [
    {
     "name": "stdout",
     "output_type": "stream",
     "text": [
      "Tinggi badan = 145\n",
      "Berat badan = 43\n",
      "Nilai BMI Anda adalah 20.451843043995243\n",
      "Anda termasuk dalam kategori Normal (Healhty Weight)\n"
     ]
    }
   ],
   "source": [
    "#menghitung BMI dan menentukan kategori\n",
    "\n",
    "height = input(\"Tinggi badan = \")\n",
    "weight = input(\"Berat badan = \")\n",
    "\n",
    "#menghitung nilai bmi\n",
    "bmi = float(weight) / (float(height)/100)**2\n",
    "print(\"Nilai BMI Anda adalah\", bmi)\n",
    "\n",
    "#menentukan kategori\n",
    "if bmi < 15:\n",
    "    kategori = \"Very severely Underweight\"\n",
    "elif bmi >= 15 and bmi < 16:\n",
    "    kategori = \"severaly Underweight\"\n",
    "elif bmi >= 16 and bmi < 18.5:\n",
    "    kategori = \"Underweight\"\n",
    "elif bmi >= 18.5 and bmi < 25:\n",
    "    kategori = \"Normal (Healhty Weight)\"\n",
    "elif bmi >= 25 and bmi < 30:\n",
    "    kategori = \"Overweight\"\n",
    "elif bmi >= 30 and bmi < 35:\n",
    "    kategori = \"Moderately Obese\"\n",
    "elif bmi >= 35 and bmi < 40:\n",
    "    kategori = \"Severaly Obese\"\n",
    "else:\n",
    "    kategori = \"Very Severaly Obese\"\n",
    "    \n",
    "print (\"Anda termasuk dalam kategori\", kategori)"
   ]
  }
 ],
 "metadata": {
  "kernelspec": {
   "display_name": "Python 3",
   "language": "python",
   "name": "python3"
  },
  "language_info": {
   "codemirror_mode": {
    "name": "ipython",
    "version": 3
   },
   "file_extension": ".py",
   "mimetype": "text/x-python",
   "name": "python",
   "nbconvert_exporter": "python",
   "pygments_lexer": "ipython3",
   "version": "3.7.0"
  }
 },
 "nbformat": 4,
 "nbformat_minor": 2
}
